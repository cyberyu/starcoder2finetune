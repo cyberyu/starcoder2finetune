{
 "cells": [
  {
   "cell_type": "code",
   "execution_count": null,
   "id": "ce6a07a5-c97b-4b27-8f3e-91e1001b7222",
   "metadata": {},
   "outputs": [],
   "source": [
    "import json\n",
    "from datasets import Dataset, DatasetDict\n",
    "import random\n",
    "\n",
    "# Load the FIM-formatted data\n",
    "input_path = \"prompts_transformed_filtered_ver2.jsonl\"\n",
    "with open(input_path, \"r\", encoding=\"utf-8\") as f:\n",
    "    data = [json.loads(line) for line in f if line.strip()]\n",
    "\n",
    "# Shuffle data for random split\n",
    "random.seed(42)\n",
    "random.shuffle(data)\n",
    "\n",
    "# Split 90% train, 10% test\n",
    "split_idx = int(0.9 * len(data))\n",
    "train_data = data[:split_idx]\n",
    "test_data = data[split_idx:]\n",
    "\n",
    "# Ensure all are dicts with 'content'\n",
    "train_data = [{'content': d['content']} for d in train_data if isinstance(d, dict) and 'content' in d]\n",
    "test_data = [{'content': d['content']} for d in test_data if isinstance(d, dict) and 'content' in d]\n",
    "\n",
    "\n",
    "# Create HuggingFace datasets\n",
    "train_dataset = Dataset.from_list(train_data)\n",
    "test_dataset = Dataset.from_list(test_data)\n",
    "dataset_dict = DatasetDict({\n",
    "    \"train\": train_dataset,\n",
    "    \"test\": test_dataset\n",
    "})\n",
    "\n",
    "# Save to disk in HuggingFace format under subset 'tbricks'\n",
    "dataset_dict.save_to_disk(\"tbricksnext2linesver5/tbricks\")\n",
    "print(f\"Saved HuggingFace dataset to tbricksnext2lines/tbricks with {len(train_data)} train and {len(test_data)} test samples.\")\n"
   ]
  }
 ],
 "metadata": {
  "kernelspec": {
   "display_name": "Python 3 (ipykernel)",
   "language": "python",
   "name": "python3"
  },
  "language_info": {
   "codemirror_mode": {
    "name": "ipython",
    "version": 3
   },
   "file_extension": ".py",
   "mimetype": "text/x-python",
   "name": "python",
   "nbconvert_exporter": "python",
   "pygments_lexer": "ipython3",
   "version": "3.11.11"
  }
 },
 "nbformat": 4,
 "nbformat_minor": 5
}
